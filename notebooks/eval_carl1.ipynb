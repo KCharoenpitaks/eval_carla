{
 "cells": [
  {
   "cell_type": "code",
   "execution_count": null,
   "metadata": {},
   "outputs": [
    {
     "name": "stdout",
     "output_type": "stream",
     "text": [
      "port:  5608\n"
     ]
    }
   ],
   "source": [
    "import os\n",
    "import carla\n",
    "\n",
    "port = int(os.environ['PORT'])  # Get the port from environment variables\n",
    "client = carla.Client('localhost', port)\n",
    "client.set_timeout(10.0)\n",
    "world = client.get_world()\n",
    "\n",
    "print(\"port: \", port)"
   ]
  },
  {
   "cell_type": "code",
   "execution_count": null,
   "metadata": {},
   "outputs": [],
   "source": []
  },
  {
   "cell_type": "code",
   "execution_count": null,
   "metadata": {},
   "outputs": [],
   "source": []
  },
  {
   "cell_type": "code",
   "execution_count": null,
   "metadata": {},
   "outputs": [],
   "source": []
  },
  {
   "cell_type": "code",
   "execution_count": null,
   "metadata": {},
   "outputs": [
    {
     "name": "stdout",
     "output_type": "stream",
     "text": [
      "Image saved as '/mnt3/Documents/eval_carla/outputs/carla_environment.png'!\n"
     ]
    },
    {
     "data": {
      "text/plain": [
       "True"
      ]
     },
     "execution_count": 3,
     "metadata": {},
     "output_type": "execute_result"
    }
   ],
   "source": [
    "# #### Test Image Capture on environment\n",
    "\n",
    "# import os\n",
    "# import carla\n",
    "# from PIL import Image\n",
    "# import numpy as np\n",
    "\n",
    "# # Connect to CARLA\n",
    "# port = int(os.environ['PORT'])\n",
    "# client = carla.Client('localhost', port)\n",
    "# client.set_timeout(10.0)\n",
    "# world = client.get_world()\n",
    "\n",
    "# # Create a camera sensor\n",
    "# blueprint_lib = world.get_blueprint_library()\n",
    "# camera_bp = blueprint_lib.find('sensor.camera.rgb')\n",
    "\n",
    "# # Configure camera settings (resolution, field of view, etc.)\n",
    "# camera_bp.set_attribute('image_size_x', '1280')\n",
    "# camera_bp.set_attribute('image_size_y', '720')\n",
    "# camera_bp.set_attribute('fov', '110')  # Field of view in degrees\n",
    "\n",
    "# # Attach camera to a vehicle or spectator (here, we place it at a fixed location)\n",
    "# camera_transform = carla.Transform(\n",
    "#     carla.Location(x=-5.5, z=2.8),  # Position (adjust to your scene)\n",
    "#     carla.Rotation(pitch=-15)       # Rotation (look downward)\n",
    "# )\n",
    "# camera = world.spawn_actor(camera_bp, camera_transform)\n",
    "\n",
    "# # Global variable to store the captured image\n",
    "# image_queue = []\n",
    "\n",
    "# # Define a callback to process the camera data\n",
    "# def camera_callback(image):\n",
    "#     global image_queue\n",
    "#     image.convert(carla.ColorConverter.Raw)  # Get raw BGRA format\n",
    "#     array = np.frombuffer(image.raw_data, dtype=np.uint8)\n",
    "#     array = np.reshape(array, (image.height, image.width, 4))  # Reshape to 4-channel\n",
    "#     array = array[:, :, :3]  # Remove alpha (keep RGB)\n",
    "#     array = array[:, :, ::-1]  # Convert BGR to RGB\n",
    "#     image_queue.append(Image.fromarray(array))  # Store PIL Image\n",
    "\n",
    "# # Listen to the camera\n",
    "# camera.listen(camera_callback)\n",
    "\n",
    "# # Wait for the camera to capture an image (adjust delay as needed)\n",
    "# import time\n",
    "# time.sleep(2)  # Allow time for the camera to render\n",
    "\n",
    "# out_dir = '/mnt3/Documents/eval_carla/outputs'\n",
    "# # Save the image using PIL\n",
    "# os.makedirs(out_dir, exist_ok=True)\n",
    "# if image_queue:\n",
    "#     image_queue[0].save(f'{out_dir}/carla_environment.png')\n",
    "#     print(f\"Image saved as '{out_dir}/carla_environment.png'!\")\n",
    "# else:\n",
    "#     print(\"No image captured. Check camera placement or delay.\")\n",
    "\n",
    "# # Cleanup\n",
    "# camera.destroy()"
   ]
  }
 ],
 "metadata": {
  "kernelspec": {
   "display_name": "Python 3 (ipykernel)",
   "language": "python",
   "name": "python3"
  },
  "language_info": {
   "codemirror_mode": {
    "name": "ipython",
    "version": 3
   },
   "file_extension": ".py",
   "mimetype": "text/x-python",
   "name": "python",
   "nbconvert_exporter": "python",
   "pygments_lexer": "ipython3",
   "version": "3.7.16"
  }
 },
 "nbformat": 4,
 "nbformat_minor": 2
}
